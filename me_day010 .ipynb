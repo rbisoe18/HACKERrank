{
 "cells": [
  {
   "cell_type": "code",
   "execution_count": null,
   "id": "da6b0402-2f7a-45d5-a683-e8a0927df68a",
   "metadata": {},
   "outputs": [],
   "source": [
    "1. write a function which will try to find out len of a string without using an inbuilt len function \n",
    "2. write a function which  will be able to print an index of list element without using an index function\n",
    "3. write a function which will be able to print an ip address of your system\n",
    "4. write a function which will shutdown your system\n",
    "5. write a function which will take input as a list with any kind of numeric value and give an out as a multiplication of \n",
    "all the numeric data l = [3.5, 6.56, 4,5,\"sudh\" , \"ineuron\" , 'fsda bootcamp 2.0']\n",
    "6. write a function which will be able to read all the mails \n",
    "7 . write a function which will be able to send a mail to anyone \n",
    "8. write a function which will be able to read a doc/word file from your system \n",
    "\n",
    "you are suppose to complete this by oct 30th before your \n",
    "live class and you have to send a solution at mail id - query@ineuron.ai\n",
    "submit your git link to mail "
   ]
  },
  {
   "cell_type": "markdown",
   "id": "91469ef5-a1f5-4c17-ba60-398a6dc3ecf4",
   "metadata": {},
   "source": [
    "# 1. write a function which will try to find out len of a string without using an inbuilt len function "
   ]
  },
  {
   "cell_type": "code",
   "execution_count": 8,
   "id": "4dcad66a-0dfa-4afa-8388-beb1c0c64559",
   "metadata": {},
   "outputs": [],
   "source": [
    "def test():\n",
    "    \"\"\" This is the program which helps you to find length of the string\"\"\"\n",
    "    count = 0\n",
    "    string = input(\"Enter the string: \")\n",
    "    for i in string:\n",
    "        # if type(string) == str:\n",
    "            count = count + 1\n",
    "    return count        "
   ]
  },
  {
   "cell_type": "code",
   "execution_count": 9,
   "id": "61c0f3f5-4ea5-47b1-8ae2-234e2b1fc130",
   "metadata": {},
   "outputs": [
    {
     "name": "stdin",
     "output_type": "stream",
     "text": [
      "Enter the string:  rajat\n"
     ]
    },
    {
     "data": {
      "text/plain": [
       "5"
      ]
     },
     "execution_count": 9,
     "metadata": {},
     "output_type": "execute_result"
    }
   ],
   "source": [
    "test()"
   ]
  },
  {
   "cell_type": "markdown",
   "id": "4e66aa19-12cb-43e4-97b9-a0a0e7ef1eb9",
   "metadata": {},
   "source": [
    "---"
   ]
  },
  {
   "cell_type": "markdown",
   "id": "0de943b7-b9af-4eb7-b5a5-29103aa51dd1",
   "metadata": {},
   "source": [
    "# 2. write a function which will be able to print an index of list element without using an index function"
   ]
  },
  {
   "cell_type": "code",
   "execution_count": 22,
   "id": "329b8728-aabb-4446-9cf4-7f67e588fc20",
   "metadata": {},
   "outputs": [],
   "source": [
    "z = \"eat\""
   ]
  },
  {
   "cell_type": "code",
   "execution_count": 19,
   "id": "9178a3bf-2931-4e63-9e30-9c6d3394bbeb",
   "metadata": {},
   "outputs": [],
   "source": [
    "l = [\"eat\", \"sleep\", \"repeat\", 1, 23]"
   ]
  },
  {
   "cell_type": "code",
   "execution_count": 20,
   "id": "e7fb9e61-5ac1-4cd4-83bc-3c024c0c9ccd",
   "metadata": {},
   "outputs": [],
   "source": [
    "def test1():\n",
    "    for i in range(0,len(l)):\n",
    "        print(l[i], \":\",i)"
   ]
  },
  {
   "cell_type": "code",
   "execution_count": 21,
   "id": "a5537dea-f989-4481-b581-e1924e375a17",
   "metadata": {},
   "outputs": [
    {
     "name": "stdout",
     "output_type": "stream",
     "text": [
      "eat : 0\n",
      "sleep : 1\n",
      "repeat : 2\n",
      "1 : 3\n",
      "23 : 4\n"
     ]
    }
   ],
   "source": [
    "test1()"
   ]
  },
  {
   "cell_type": "code",
   "execution_count": 23,
   "id": "e5344cd4-f92b-4dd4-8d20-530356369a56",
   "metadata": {},
   "outputs": [],
   "source": [
    "def test1():\n",
    "    for i in range(0,len(z)):\n",
    "        print(z[i], \":\",i)"
   ]
  },
  {
   "cell_type": "code",
   "execution_count": 24,
   "id": "ac2c24a7-98e9-4a8c-845a-4998cbe31013",
   "metadata": {},
   "outputs": [
    {
     "name": "stdout",
     "output_type": "stream",
     "text": [
      "e : 0\n",
      "a : 1\n",
      "t : 2\n"
     ]
    }
   ],
   "source": [
    "test1()"
   ]
  },
  {
   "cell_type": "markdown",
   "id": "9d26b7c8-5a29-4559-bd18-c0824fcab733",
   "metadata": {},
   "source": [
    "---"
   ]
  },
  {
   "cell_type": "markdown",
   "id": "fc1c896c-19d9-4cdd-a991-cc37299fe2da",
   "metadata": {},
   "source": [
    "# 3. write a function which will be able to print an ip address of your system"
   ]
  },
  {
   "cell_type": "code",
   "execution_count": 25,
   "id": "838a3148-84e1-43b2-a625-d3f79ca9c9ed",
   "metadata": {},
   "outputs": [],
   "source": [
    "import socket\n",
    "def test2():\n",
    "    ip = socket.gethostbyname(socket.gethostname())\n",
    "    return ip"
   ]
  },
  {
   "cell_type": "code",
   "execution_count": 26,
   "id": "5845c862-9b58-45b4-8dbf-99508f263135",
   "metadata": {},
   "outputs": [
    {
     "data": {
      "text/plain": [
       "'172.18.0.13'"
      ]
     },
     "execution_count": 26,
     "metadata": {},
     "output_type": "execute_result"
    }
   ],
   "source": [
    "test2()"
   ]
  },
  {
   "cell_type": "markdown",
   "id": "54bb6b72-5be8-40f2-a301-5ed79f9829c0",
   "metadata": {},
   "source": [
    "---"
   ]
  },
  {
   "cell_type": "markdown",
   "id": "48b25370-8a9a-4d2a-91ba-68e21c5e102f",
   "metadata": {},
   "source": [
    "# 4. write a function which will shutdown your system"
   ]
  },
  {
   "cell_type": "code",
   "execution_count": null,
   "id": "3e151123-b9d6-44d8-8b02-fff717d3c944",
   "metadata": {},
   "outputs": [],
   "source": [
    "import os\n",
    "os.system(\"shutdown /s /t 4\")\n",
    "\n",
    "# os.system(\"shutdown /r /t 4\") # Restart\n",
    "\n",
    "# /s - shutdown\n",
    "# /r - restart\n",
    "# /t 1(timer)  - timer parameter"
   ]
  },
  {
   "cell_type": "markdown",
   "id": "7cae2990-7914-43b0-9df2-84f93d1d09dd",
   "metadata": {},
   "source": [
    "---"
   ]
  },
  {
   "cell_type": "markdown",
   "id": "10c7964b-caf5-44c2-82fe-ffaba9c28772",
   "metadata": {},
   "source": [
    "# 5. write a function which will take input as a list with any kind of numeric value and give an output as a multiplication of all the numeric data l = [3.5, 6.56, 4,5,\"sudh\" , \"ineuron\" , 'fsda bootcamp 2.0']"
   ]
  },
  {
   "cell_type": "code",
   "execution_count": 34,
   "id": "d8077646-35a2-4d74-9a0d-a7eb0a0a7a12",
   "metadata": {},
   "outputs": [],
   "source": [
    "def test3():\n",
    "    l = [3.5, 6.56, 4,5,\"sudh\" , \"ineuron\" , 'fsda bootcamp 2.0']\n",
    "    mul = 1\n",
    "    for i in l:\n",
    "        if type(i) == int or type(i) == float:\n",
    "            mul = mul * i\n",
    "    return mul"
   ]
  },
  {
   "cell_type": "code",
   "execution_count": 35,
   "id": "76621643-7cb1-48a6-81c3-fd55736e6893",
   "metadata": {},
   "outputs": [],
   "source": [
    "def test2():\n",
    "    l = [3.5, 6.56, 4,5,\"sudh\" , \"ineuron\" , 'fsda bootcamp 2.0']\n",
    "    a = list()\n",
    "    mul = 1\n",
    "    for i in l:\n",
    "        if type(i) == int or type(i) == float:\n",
    "            mul = mul * i\n",
    "            a.append(mul)\n",
    "    return a"
   ]
  },
  {
   "cell_type": "code",
   "execution_count": 37,
   "id": "99608b2b-fa1b-4c20-b8e5-1f264fdcfaf6",
   "metadata": {},
   "outputs": [
    {
     "data": {
      "text/plain": [
       "[3.5, 22.959999999999997, 91.83999999999999, 459.19999999999993]"
      ]
     },
     "execution_count": 37,
     "metadata": {},
     "output_type": "execute_result"
    }
   ],
   "source": [
    "test2()"
   ]
  },
  {
   "cell_type": "code",
   "execution_count": 36,
   "id": "4c169b4e-4579-4259-ac64-e99a516f1eca",
   "metadata": {},
   "outputs": [
    {
     "data": {
      "text/plain": [
       "459.19999999999993"
      ]
     },
     "execution_count": 36,
     "metadata": {},
     "output_type": "execute_result"
    }
   ],
   "source": [
    "test3()"
   ]
  },
  {
   "cell_type": "markdown",
   "id": "f23d794f-571e-4e8d-8280-3db35524fb6a",
   "metadata": {},
   "source": [
    "---"
   ]
  },
  {
   "cell_type": "markdown",
   "id": "aa59f212-9215-4159-99ac-80504ef1e745",
   "metadata": {},
   "source": [
    "# OR"
   ]
  },
  {
   "cell_type": "code",
   "execution_count": 38,
   "id": "1f6f6c0e-edf2-4afe-880c-ad3dc0e96a2d",
   "metadata": {},
   "outputs": [],
   "source": [
    "def multil():\n",
    "    l = [3.5, 6.56, 4,5,\"sudh\" , \"ineuron\" , 'fsda bootcamp 2.0']\n",
    "    mul = 1\n",
    "    for i in l :\n",
    "        if type(i) != str:\n",
    "            mul = i * mul\n",
    "    return mul"
   ]
  },
  {
   "cell_type": "code",
   "execution_count": 39,
   "id": "3cf60b0c-d51b-473b-b255-083ad12762c0",
   "metadata": {},
   "outputs": [
    {
     "data": {
      "text/plain": [
       "459.19999999999993"
      ]
     },
     "execution_count": 39,
     "metadata": {},
     "output_type": "execute_result"
    }
   ],
   "source": [
    "multil()"
   ]
  },
  {
   "cell_type": "markdown",
   "id": "827795bc-62e8-4719-ae52-8f150ba23a35",
   "metadata": {},
   "source": [
    "---"
   ]
  },
  {
   "cell_type": "markdown",
   "id": "dca32200-02f9-432b-9bbd-c4f997f0ad59",
   "metadata": {},
   "source": [
    "# 6. write a function which will be able to read all the mails"
   ]
  },
  {
   "cell_type": "code",
   "execution_count": 41,
   "id": "3e39f07e-7a2e-4f13-ab98-74fd8805e8a4",
   "metadata": {},
   "outputs": [
    {
     "name": "stdout",
     "output_type": "stream",
     "text": [
      "From : LinkedIn <updates-noreply@linkedin.com>\n",
      "\n",
      "Subject : Kunal Bahl recently posted\n",
      "\n",
      "From : Google <no-reply@accounts.google.com>\n",
      "\n",
      "Subject : Security alert\n",
      "\n",
      "From : Discord <noreply@discord.com>\n",
      "\n",
      "Subject : Password reset request for Discord\n",
      "\n",
      "From : Google <no-reply@accounts.google.com>\n",
      "\n",
      "Subject : Security alert\n",
      "\n",
      "From : Google <no-reply@accounts.google.com>\n",
      "\n",
      "Subject : Security alert\n",
      "\n",
      "From : Google <no-reply@accounts.google.com>\n",
      "\n",
      "Subject : Security alert\n",
      "\n",
      "From : Discord <noreply@discord.com>\n",
      "\n",
      "Subject : Password reset request for Discord\n",
      "\n",
      "From : \"iNeuron.ai\" <contact@ineuron.ai>\n",
      "\n",
      "Subject : Full Stack Data Science BootCamp 2.0\n",
      "\n",
      "From : AIRTEL  <Impinfo@updates.airtel.com>\n",
      "\n",
      "Subject : This story of a long-distance relationship will move you to tears\n",
      "\n"
     ]
    },
    {
     "ename": "NameError",
     "evalue": "name 'traceback' is not defined",
     "output_type": "error",
     "traceback": [
      "\u001b[0;31m---------------------------------------------------------------------------\u001b[0m",
      "\u001b[0;31mUnicodeDecodeError\u001b[0m                        Traceback (most recent call last)",
      "Cell \u001b[0;32mIn [41], line 29\u001b[0m, in \u001b[0;36mread_email_from_gmail\u001b[0;34m()\u001b[0m\n\u001b[1;32m     28\u001b[0m \u001b[38;5;28;01mif\u001b[39;00m \u001b[38;5;28misinstance\u001b[39m(arr, \u001b[38;5;28mtuple\u001b[39m):\n\u001b[0;32m---> 29\u001b[0m     msg \u001b[38;5;241m=\u001b[39m email\u001b[38;5;241m.\u001b[39mmessage_from_string(\u001b[38;5;28;43mstr\u001b[39;49m\u001b[43m(\u001b[49m\u001b[43marr\u001b[49m\u001b[43m[\u001b[49m\u001b[38;5;241;43m1\u001b[39;49m\u001b[43m]\u001b[49m\u001b[43m,\u001b[49m\u001b[38;5;124;43m'\u001b[39;49m\u001b[38;5;124;43mutf-8\u001b[39;49m\u001b[38;5;124;43m'\u001b[39;49m\u001b[43m)\u001b[49m)\n\u001b[1;32m     30\u001b[0m     email_subject \u001b[38;5;241m=\u001b[39m msg[\u001b[38;5;124m'\u001b[39m\u001b[38;5;124msubject\u001b[39m\u001b[38;5;124m'\u001b[39m]\n",
      "\u001b[0;31mUnicodeDecodeError\u001b[0m: 'utf-8' codec can't decode byte 0xa0 in position 8222: invalid start byte",
      "\nDuring handling of the above exception, another exception occurred:\n",
      "\u001b[0;31mNameError\u001b[0m                                 Traceback (most recent call last)",
      "Cell \u001b[0;32mIn [41], line 39\u001b[0m\n\u001b[1;32m     36\u001b[0m         traceback\u001b[38;5;241m.\u001b[39mprint_exc() \n\u001b[1;32m     37\u001b[0m         \u001b[38;5;28mprint\u001b[39m(\u001b[38;5;28mstr\u001b[39m(e))\n\u001b[0;32m---> 39\u001b[0m \u001b[43mread_email_from_gmail\u001b[49m\u001b[43m(\u001b[49m\u001b[43m)\u001b[49m\n",
      "Cell \u001b[0;32mIn [41], line 36\u001b[0m, in \u001b[0;36mread_email_from_gmail\u001b[0;34m()\u001b[0m\n\u001b[1;32m     33\u001b[0m                 \u001b[38;5;28mprint\u001b[39m(\u001b[38;5;124m'\u001b[39m\u001b[38;5;124mSubject : \u001b[39m\u001b[38;5;124m'\u001b[39m \u001b[38;5;241m+\u001b[39m email_subject \u001b[38;5;241m+\u001b[39m \u001b[38;5;124m'\u001b[39m\u001b[38;5;130;01m\\n\u001b[39;00m\u001b[38;5;124m'\u001b[39m)\n\u001b[1;32m     35\u001b[0m \u001b[38;5;28;01mexcept\u001b[39;00m \u001b[38;5;167;01mException\u001b[39;00m \u001b[38;5;28;01mas\u001b[39;00m e:\n\u001b[0;32m---> 36\u001b[0m     \u001b[43mtraceback\u001b[49m\u001b[38;5;241m.\u001b[39mprint_exc() \n\u001b[1;32m     37\u001b[0m     \u001b[38;5;28mprint\u001b[39m(\u001b[38;5;28mstr\u001b[39m(e))\n",
      "\u001b[0;31mNameError\u001b[0m: name 'traceback' is not defined"
     ]
    }
   ],
   "source": [
    "import smtplib\n",
    "import time\n",
    "import imaplib\n",
    "import email\n",
    "ORG_EMAIL = \"@gmail.com\" \n",
    "FROM_EMAIL = 'rbisoe@gmail.com'\n",
    "FROM_PWD = 'jzvqnmrwzwhfxvcx'\n",
    "SMTP_SERVER = \"imap.gmail.com\" \n",
    "SMTP_PORT = 993\n",
    "imaplib._MAXLINE = 400000000\n",
    "\n",
    "def read_email_from_gmail():\n",
    "    try:\n",
    "        mail = imaplib.IMAP4_SSL(SMTP_SERVER)\n",
    "        mail.login(FROM_EMAIL,FROM_PWD)\n",
    "        mail.select('inbox')\n",
    "\n",
    "        data = mail.search(None, 'ALL')\n",
    "        mail_ids = data[1]\n",
    "        id_list = mail_ids[0].split()   \n",
    "        first_email_id = int(id_list[0])\n",
    "        latest_email_id = int(id_list[-1])\n",
    "\n",
    "        for i in range(latest_email_id,first_email_id, -1):\n",
    "            data = mail.fetch(str(i), '(RFC822)' )\n",
    "            for response_part in data:\n",
    "                arr = response_part[0]\n",
    "                if isinstance(arr, tuple):\n",
    "                    msg = email.message_from_string(str(arr[1],'utf-8'))\n",
    "                    email_subject = msg['subject']\n",
    "                    email_from = msg['from']\n",
    "                    print('From : ' + email_from + '\\n')\n",
    "                    print('Subject : ' + email_subject + '\\n')\n",
    "\n",
    "    except Exception as e:\n",
    "        traceback.print_exc() \n",
    "        print(str(e))\n",
    "\n",
    "read_email_from_gmail()"
   ]
  },
  {
   "cell_type": "markdown",
   "id": "de348a64-e04b-4218-9321-63bf2b33f14f",
   "metadata": {},
   "source": [
    "---"
   ]
  },
  {
   "cell_type": "markdown",
   "id": "827bb1db-8b7c-4164-8d99-0dbbcb3c4219",
   "metadata": {},
   "source": [
    "# 7. write a function which will be able to send a mail to anyone"
   ]
  },
  {
   "cell_type": "code",
   "execution_count": 42,
   "id": "5ffd7cb1-4590-4b4d-b623-baf721efc210",
   "metadata": {},
   "outputs": [],
   "source": [
    "import smtplib , ssl\n",
    "port = 465  # For SSL\n",
    "smtp_server = \"smtp.gmail.com\"\n",
    "sender_email = \"rbisoe@gmail.com\"  # Enter your address\n",
    "receiver_email = \"rashmitabisoe@gmail.com\"  # Enter receiver address\n",
    "#password = 'jzvqnmrwzwhfxvcx'\n",
    "password = 'jzvqnmrwzwhfxvcx'\n",
    "message = \"\"\"this is my message from python code \"\"\"\n",
    "\n",
    "context = ssl.create_default_context()\n",
    "with smtplib.SMTP_SSL(smtp_server, port, context=context) as server:\n",
    "    server.login(sender_email, password)\n",
    "    server.sendmail(sender_email, receiver_email, message)"
   ]
  },
  {
   "cell_type": "markdown",
   "id": "32eaa1ac-9f29-4393-81dc-e2c76fb3a390",
   "metadata": {},
   "source": [
    "---"
   ]
  },
  {
   "cell_type": "markdown",
   "id": "93030322-e27d-4777-944c-59a82e9b3d65",
   "metadata": {},
   "source": [
    "# 8. write a function which will be able to read a doc/word file from your system"
   ]
  },
  {
   "cell_type": "code",
   "execution_count": 43,
   "id": "1d7768a0-5020-4f06-9123-fe2cfa91730c",
   "metadata": {},
   "outputs": [
    {
     "name": "stdout",
     "output_type": "stream",
     "text": [
      "Collecting docx2txt\n",
      "  Downloading docx2txt-0.8.tar.gz (2.8 kB)\n",
      "  Preparing metadata (setup.py) ... \u001b[?25ldone\n",
      "\u001b[?25hBuilding wheels for collected packages: docx2txt\n",
      "  Building wheel for docx2txt (setup.py) ... \u001b[?25ldone\n",
      "\u001b[?25h  Created wheel for docx2txt: filename=docx2txt-0.8-py3-none-any.whl size=3960 sha256=e65e86e30a446359a6a9d6342bde3b1bc751f2691c83987a6e3382030679c9e6\n",
      "  Stored in directory: /home/jovyan/.cache/pip/wheels/3c/78/a3/ef70996aa66e38229494dbd84cd747e2e0668f1940bf4a7de8\n",
      "Successfully built docx2txt\n",
      "Installing collected packages: docx2txt\n",
      "Successfully installed docx2txt-0.8\n"
     ]
    }
   ],
   "source": [
    "!pip install docx2txt"
   ]
  },
  {
   "cell_type": "code",
   "execution_count": 45,
   "id": "6d5a34e7-dd3a-4fbf-b1c1-bf416768f5fe",
   "metadata": {},
   "outputs": [
    {
     "ename": "NameError",
     "evalue": "name 'docx2txt' is not defined",
     "output_type": "error",
     "traceback": [
      "\u001b[0;31m---------------------------------------------------------------------------\u001b[0m",
      "\u001b[0;31mNameError\u001b[0m                                 Traceback (most recent call last)",
      "Cell \u001b[0;32mIn [45], line 1\u001b[0m\n\u001b[0;32m----> 1\u001b[0m a \u001b[38;5;241m=\u001b[39m \u001b[43mdocx2txt\u001b[49m\u001b[38;5;241m.\u001b[39mprocess(\u001b[38;5;124m'\u001b[39m\u001b[38;5;124mfile.docx\u001b[39m\u001b[38;5;124m'\u001b[39m)\n\u001b[1;32m      2\u001b[0m \u001b[38;5;28mprint\u001b[39m(a)\n",
      "\u001b[0;31mNameError\u001b[0m: name 'docx2txt' is not defined"
     ]
    }
   ],
   "source": [
    "a = docx2txt.process('file.docx')\n",
    "print(a)"
   ]
  },
  {
   "cell_type": "code",
   "execution_count": null,
   "id": "bf37e1ae-44ef-4935-82b5-b85cc058b5b7",
   "metadata": {},
   "outputs": [],
   "source": []
  }
 ],
 "metadata": {
  "kernelspec": {
   "display_name": "Python 3 (ipykernel)",
   "language": "python",
   "name": "python3"
  },
  "language_info": {
   "codemirror_mode": {
    "name": "ipython",
    "version": 3
   },
   "file_extension": ".py",
   "mimetype": "text/x-python",
   "name": "python",
   "nbconvert_exporter": "python",
   "pygments_lexer": "ipython3",
   "version": "3.10.6"
  }
 },
 "nbformat": 4,
 "nbformat_minor": 5
}
